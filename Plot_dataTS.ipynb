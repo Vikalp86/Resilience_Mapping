{
 "cells": [
  {
   "cell_type": "raw",
   "metadata": {},
   "source": [
    "####################################################\n",
    "# CODE TO PLOT TIME SERIES OF Monthly/ANNUAL MAX \n",
    "# (95th pct) NDVI DATA FOR EACH SUB POLYGONS \n",
    "# \n",
    "# INPUTS: LANDSAT 7 & 8 TIMESERIES DATA\n",
    "#\n",
    "# DATE:   Jun 24, 2021\n",
    "# Author: VIKALP MISHRA\n",
    "#         SERVIR SCO\n",
    "####################################################"
   ]
  },
  {
   "cell_type": "markdown",
   "metadata": {},
   "source": [
    "Import required python libraries"
   ]
  },
  {
   "cell_type": "code",
   "execution_count": 3,
   "metadata": {},
   "outputs": [],
   "source": [
    "import pandas as pd\n",
    "import numpy as np\n",
    "import os, sys\n",
    "import matplotlib.pyplot as plt\n",
    "from datetime import timedelta"
   ]
  },
  {
   "cell_type": "code",
   "execution_count": 4,
   "metadata": {},
   "outputs": [],
   "source": [
    "wdir = '/path/to/your/working/directory/'"
   ]
  },
  {
   "cell_type": "markdown",
   "metadata": {},
   "source": [
    "  Loop through each intervened years \n",
    "  \n",
    "  *Make sure the input folder does not contain any additional csv files with similar naming conventions*\n",
    "  "
   ]
  },
  {
   "cell_type": "code",
   "execution_count": 1,
   "metadata": {},
   "outputs": [
    {
     "ename": "NameError",
     "evalue": "name 'wdir' is not defined",
     "output_type": "error",
     "traceback": [
      "\u001b[0;31m---------------------------------------------------------------------------\u001b[0m",
      "\u001b[0;31mNameError\u001b[0m                                 Traceback (most recent call last)",
      "\u001b[0;32m<ipython-input-1-921439cd4957>\u001b[0m in \u001b[0;36m<module>\u001b[0;34m\u001b[0m\n\u001b[1;32m      1\u001b[0m \u001b[0;32mfor\u001b[0m \u001b[0myear\u001b[0m \u001b[0;32min\u001b[0m \u001b[0mrange\u001b[0m\u001b[0;34m(\u001b[0m\u001b[0;36m2013\u001b[0m\u001b[0;34m,\u001b[0m \u001b[0;36m2020\u001b[0m\u001b[0;34m)\u001b[0m\u001b[0;34m:\u001b[0m\u001b[0;34m\u001b[0m\u001b[0;34m\u001b[0m\u001b[0m\n\u001b[0;32m----> 2\u001b[0;31m     \u001b[0mf1\u001b[0m \u001b[0;34m=\u001b[0m \u001b[0mwdir\u001b[0m\u001b[0;34m+\u001b[0m\u001b[0mstr\u001b[0m\u001b[0;34m(\u001b[0m\u001b[0myear\u001b[0m\u001b[0;34m)\u001b[0m\u001b[0;34m+\u001b[0m\u001b[0;34m'_chirps.csv'\u001b[0m\u001b[0;34m\u001b[0m\u001b[0;34m\u001b[0m\u001b[0m\n\u001b[0m\u001b[1;32m      3\u001b[0m     \u001b[0mprint\u001b[0m\u001b[0;34m(\u001b[0m\u001b[0;34m'Processing year...'\u001b[0m\u001b[0;34m,\u001b[0m\u001b[0myear\u001b[0m\u001b[0;34m)\u001b[0m\u001b[0;34m\u001b[0m\u001b[0;34m\u001b[0m\u001b[0m\n\u001b[1;32m      4\u001b[0m \u001b[0;34m\u001b[0m\u001b[0m\n\u001b[1;32m      5\u001b[0m     \u001b[0;31m# check to see if the path/file exists\u001b[0m\u001b[0;34m\u001b[0m\u001b[0;34m\u001b[0m\u001b[0;34m\u001b[0m\u001b[0m\n",
      "\u001b[0;31mNameError\u001b[0m: name 'wdir' is not defined"
     ]
    }
   ],
   "source": [
    "for year in range(2013, 2020):\n",
    "    f1 = wdir+str(year)+'_chirps.csv'\n",
    "    print('Processing year...',year)\n",
    "    \n",
    "    # check to see if the path/file exists\n",
    "    if os.path.exists(f1):\n",
    "        ch = pd.read_csv(wdir+str(year)+'_chirps.csv')\n",
    "        l7 = pd.read_csv(wdir+str(year)+'_L7.csv')\n",
    "        l8 = pd.read_csv(wdir+str(year)+'_L8.csv')\n",
    "        \n",
    "        # set date as index\n",
    "        ch = ch.set_index('id')\n",
    "        l7 = l7.set_index('Date')\n",
    "        l8 = l8.set_index('Date')\n",
    "        \n",
    "        #convert index to datetime object\n",
    "        ch.index = pd.to_datetime(ch.index)\n",
    "        l7.index = pd.to_datetime(l7.index)\n",
    "        l8.index = pd.to_datetime(l8.index)\n",
    "        \n",
    "        # selecting only months Jul-Nov for precip\n",
    "        ch1 = ch.loc[ch.index.month>6]\n",
    "        ch1 = ch1.loc[ch1.index.month<10]\n",
    "        \n",
    "        # aggregating precipitatio data to annual scale and resent index\n",
    "        chy = ch1.resample('Y').sum()\n",
    "        #chy.index = chy.index-timedelta(360)\n",
    "        \n",
    "        # compute precip anomaly using long term mean and std. deviation\n",
    "        ch_anom = (chy - chy.mean())/chy.std()\n",
    "        \n",
    "        #loop through each of the columns (subpolygons) intervened this particular year\n",
    "        cols = ch.columns\n",
    "        for col in cols:    \n",
    "            df = pd.DataFrame()\n",
    "            df['Date'] = pd.date_range('1/1/2002','12/31/2020')\n",
    "            df = df.set_index('Date')\n",
    "            df = df.merge(l7[col],left_index=True, right_index=True,how='left')\n",
    "            df = df.merge(l8[col],left_index=True, right_index=True,how='left')\n",
    "            df.columns = ['L7','L8']\n",
    "\n",
    "            # if interested in monthly data, use this section and comment out yearly one\n",
    "            '''\n",
    "            # Monthly composite\n",
    "            df2 = df.resmaple('M').max()\n",
    "            '''\n",
    "            \n",
    "            # yearly composite at 95th precentile \n",
    "            df2 = df.resample('Y').quantile(.95)\n",
    "            \n",
    "            \n",
    "            #--------------\n",
    "            # plotting data\n",
    "            #---------------\n",
    "            \n",
    "            fig, ax = plt.subplots(constrained_layout=True, figsize = (9,5))\n",
    "            \n",
    "            # plot NDVI data\n",
    "            plt.plot(df2.L8, label = 'L8', ls= '-', marker = 's')\n",
    "            plt.plot(df2.L7, label = 'L7',  ls= '-',marker = 'o')\n",
    "            plt.ylabel('NDVI')\n",
    "            plt.ylim(-.1,.5)\n",
    "            plt.plot([pd.to_datetime(year,format='%Y'),pd.to_datetime(year,format='%Y')],[-.5,5], ls = '--', color = 'gray')\n",
    "            plt.legend(loc = 4)\n",
    "            plt.title(col+'  '+str(year))\n",
    "            \n",
    "            # Plot precipitation data\n",
    "            ax2 = ax.twinx()\n",
    "            ax2.bar(ch_anom.index,ch_anom[col], width = 50, color = 'black')\n",
    "            ax2.set_ylabel('Precip Anomalies')\n",
    "            ax2.plot(ch_anom.index,np.repeat(0,len(ch_anom.index)), ls = '--', color = 'black')\n",
    "            \n",
    "            plt.show()\n",
    "            exit\n",
    "            \n",
    "            plt.savefig(wdir+str(year)+'_'+col+'.png',dpi = 500)\n",
    "            plt.close()\n"
   ]
  },
  {
   "cell_type": "code",
   "execution_count": null,
   "metadata": {},
   "outputs": [],
   "source": []
  }
 ],
 "metadata": {
  "kernelspec": {
   "display_name": "Python 3",
   "language": "python",
   "name": "python3"
  },
  "language_info": {
   "codemirror_mode": {
    "name": "ipython",
    "version": 3
   },
   "file_extension": ".py",
   "mimetype": "text/x-python",
   "name": "python",
   "nbconvert_exporter": "python",
   "pygments_lexer": "ipython3",
   "version": "3.8.5"
  }
 },
 "nbformat": 4,
 "nbformat_minor": 2
}
